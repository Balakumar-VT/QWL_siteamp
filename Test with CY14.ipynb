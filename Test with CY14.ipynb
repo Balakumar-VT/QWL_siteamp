{
 "cells": [
  {
   "cell_type": "code",
   "execution_count": 1,
   "id": "e182d3a9-2138-47cb-99cd-15a1e145b34f",
   "metadata": {},
   "outputs": [],
   "source": [
    "import numpy as np\n",
    "import matplotlib.pyplot as plt\n",
    "import pandas as pd"
   ]
  },
  {
   "cell_type": "code",
   "execution_count": 2,
   "id": "61613b90-dbbd-4593-9649-add7f0d98222",
   "metadata": {},
   "outputs": [],
   "source": [
    "#Source density(g/cm3) and Vs(km/s)\n",
    "\n",
    "vr = 3.5 \n",
    "pr = 2.75"
   ]
  },
  {
   "cell_type": "code",
   "execution_count": 3,
   "id": "109ad243-b7fd-4ae6-a265-8b6848314ebb",
   "metadata": {},
   "outputs": [],
   "source": [
    "profile = pd.read_csv('Vs profile.txt',delimiter='\\t')\n",
    "depth = profile['z (km)'].values\n",
    "vs = profile[' Vs (km/sec)'].values\n",
    "thickness = np.insert(np.diff(depth),0,depth[0])"
   ]
  },
  {
   "cell_type": "code",
   "execution_count": 4,
   "id": "272b2283-fa88-4638-901d-8949d927c90f",
   "metadata": {},
   "outputs": [],
   "source": [
    "freq = np.logspace(-1,2,100)\n",
    "tt = 1/(4*freq)"
   ]
  },
  {
   "cell_type": "code",
   "execution_count": 5,
   "id": "f1205b18-487f-40f0-823b-60e969a10b87",
   "metadata": {},
   "outputs": [],
   "source": [
    "z_eql = []\n",
    "for i in tt:\n",
    "    tt_prof = 0\n",
    "    z = 0\n",
    "    for t,v in zip(thickness,vs):\n",
    "        if tt_prof + t/v <= i:\n",
    "            tt_prof = tt_prof + t/v\n",
    "            z = z+t\n",
    "        else:\n",
    "            diff_tt = i - tt_prof\n",
    "            z = z+ diff_tt*v\n",
    "            break\n",
    "            \n",
    "\n",
    "    z_eql.append(z)"
   ]
  },
  {
   "cell_type": "code",
   "execution_count": 6,
   "id": "c9ba046d-1fb1-4fba-afb8-4c144284c6fd",
   "metadata": {},
   "outputs": [],
   "source": [
    "vs_eql = np.array(z_eql)/tt"
   ]
  },
  {
   "cell_type": "code",
   "execution_count": 7,
   "id": "9a95327f-a703-484a-b96b-75e1918d97d0",
   "metadata": {},
   "outputs": [],
   "source": [
    "density_eql = []\n",
    "for i in z_eql:\n",
    "    z = 0\n",
    "    d = 0\n",
    "    j = 0\n",
    "    while z+thickness[j] < i:\n",
    "        d = d+(1.742 + 0.2875*vs[j])*thickness[j]\n",
    "        z = z+thickness[j]\n",
    "\n",
    "        j = j+1\n",
    "        \n",
    "    diff_z = i-z\n",
    "    d = d+(1.742 + 0.2875*vs[j])*diff_z\n",
    "\n",
    "    density_eql.append(d/i)\n",
    "            "
   ]
  },
  {
   "cell_type": "code",
   "execution_count": 8,
   "id": "2ef56d67-49ae-4d9c-b380-728080022f09",
   "metadata": {},
   "outputs": [],
   "source": [
    "amp = np.sqrt((pr*vr)/(density_eql*vs_eql))"
   ]
  },
  {
   "cell_type": "code",
   "execution_count": 9,
   "id": "d77b51dc-a6ed-4298-b9b6-1207f858fccc",
   "metadata": {},
   "outputs": [],
   "source": [
    "site_amp_linda = pd.read_csv('Amplification.txt',delimiter = '\\t')"
   ]
  },
  {
   "cell_type": "code",
   "execution_count": 10,
   "id": "4cc0f453-9425-46c8-95f1-3e00f020b267",
   "metadata": {},
   "outputs": [],
   "source": [
    "f_linda = site_amp_linda['Frequency (Hz)'].values\n",
    "amp_linda = site_amp_linda['Site Amp'].values"
   ]
  },
  {
   "cell_type": "code",
   "execution_count": 11,
   "id": "5d1b2020-8cac-4254-a74e-04efda960018",
   "metadata": {},
   "outputs": [],
   "source": [
    "import QWL"
   ]
  },
  {
   "cell_type": "code",
   "execution_count": 12,
   "id": "54822c05-7c3a-4cc7-807c-7c1ea25ea617",
   "metadata": {},
   "outputs": [],
   "source": [
    "amp_fun = QWL.Amplification(vs,depth)"
   ]
  },
  {
   "cell_type": "code",
   "execution_count": 13,
   "id": "1b60b543-2afb-4d1f-bbd3-025c85dcb2a4",
   "metadata": {},
   "outputs": [
    {
     "data": {
      "image/png": "[encoded data removed]",
      "text/plain": [
       "<Figure size 600x400 with 1 Axes>"
      ]
     },
     "metadata": {
      "needs_background": "light"
     },
     "output_type": "display_data"
    }
   ],
   "source": [
    "fig,ax = plt.subplots(dpi = 100)\n",
    "ax.loglog(freq,amp)\n",
    "ax.loglog(f_linda,amp_linda)\n",
    "ax.loglog(amp_fun.freq,amp_fun.site_amp)\n",
    "ax.grid('both',which='both')"
   ]
  }
 ],
 "metadata": {
  "kernelspec": {
   "display_name": "Python 3 (ipykernel)",
   "language": "python",
   "name": "python3"
  },
  "language_info": {
   "codemirror_mode": {
    "name": "ipython",
    "version": 3
   },
   "file_extension": ".py",
   "mimetype": "text/x-python",
   "name": "python",
   "nbconvert_exporter": "python",
   "pygments_lexer": "ipython3",
   "version": "3.9.9"
  }
 },
 "nbformat": 4,
 "nbformat_minor": 5
}
