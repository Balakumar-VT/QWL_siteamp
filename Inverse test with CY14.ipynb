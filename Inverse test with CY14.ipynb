{
 "cells": [
  {
   "cell_type": "code",
   "execution_count": 1,
   "id": "89aa9ada-fe29-4f35-983d-f2bce75c4398",
   "metadata": {},
   "outputs": [],
   "source": [
    "import numpy as np\n",
    "import matplotlib.pyplot as plt\n",
    "import pandas as pd"
   ]
  },
  {
   "cell_type": "code",
   "execution_count": 2,
   "id": "48bf1d63-3788-4db5-811e-95813774d581",
   "metadata": {},
   "outputs": [],
   "source": [
    "#Source density(g/cm3) and Vs(km/s)\n",
    "\n",
    "vr = 3.5 \n",
    "pr = 2.75"
   ]
  },
  {
   "cell_type": "code",
   "execution_count": 3,
   "id": "83b0f471-058b-43ea-948a-fc704b0ed44d",
   "metadata": {},
   "outputs": [],
   "source": [
    "amplification = pd.read_csv('Amplification.txt',delimiter='\\t')\n",
    "amplification = amplification.sort_values(by=['Frequency (Hz)'],ascending = False)"
   ]
  },
  {
   "cell_type": "code",
   "execution_count": 4,
   "id": "7fb55ed0-7445-4310-bd69-0d29ffa98786",
   "metadata": {},
   "outputs": [],
   "source": [
    "freqs = amplification['Frequency (Hz)'].values\n",
    "site_amp = amplification['Site Amp'].values"
   ]
  },
  {
   "cell_type": "code",
   "execution_count": 5,
   "id": "0398d56e-e435-402b-abda-6bad291b6a21",
   "metadata": {},
   "outputs": [],
   "source": [
    "site_amp_high = site_amp[0]\n",
    "freq_high = freqs[0]\n",
    "\n"
   ]
  },
  {
   "cell_type": "code",
   "execution_count": 6,
   "id": "6c7fcd66-8a34-4bd1-88be-be2d2ad0acfe",
   "metadata": {},
   "outputs": [],
   "source": [
    "def solve_eqn(a,b,c):\n",
    "    discriminant = np.sqrt(b**2 - 4*a*c)\n",
    "\n",
    "    sol1 = (-b+discriminant)/(2*a)\n",
    "    sol2 = (-b-discriminant)/(2*a)\n",
    "\n",
    "    solution = max(sol1,sol2)\n",
    "    return solution"
   ]
  },
  {
   "cell_type": "code",
   "execution_count": 7,
   "id": "a7a2a4e3-3738-4322-9a75-0af2f64177f8",
   "metadata": {},
   "outputs": [],
   "source": [
    "vs_shallow = solve_eqn(0.2875,1.742,-(pr*vr)/site_amp_high**2)\n",
    "depth_shallow = vs_shallow/(4*freq_high)"
   ]
  },
  {
   "cell_type": "code",
   "execution_count": 8,
   "id": "646df28f-8317-4b87-b95b-f5eb1df1adfa",
   "metadata": {},
   "outputs": [
    {
     "data": {
      "text/plain": [
       "0.000756242630247929"
      ]
     },
     "execution_count": 8,
     "metadata": {},
     "output_type": "execute_result"
    }
   ],
   "source": [
    "depth_shallow"
   ]
  },
  {
   "cell_type": "code",
   "execution_count": 9,
   "id": "1f3fc996-bc0b-40bf-9f0a-306e0af020a9",
   "metadata": {},
   "outputs": [],
   "source": [
    "tt_old = 1/(4*freq_high)\n",
    "depth_old = depth_shallow\n",
    "density_old = 1.742 + 0.2875*vs_shallow\n",
    "velocity = [vs_shallow]\n",
    "depth = [depth_shallow]\n",
    "\n",
    "for f,s in zip(freqs[1:],site_amp[1:]):\n",
    "    tt_new = 1/(4*f)\n",
    "    del_tt = tt_new - tt_old\n",
    "\n",
    "    a = 0.2875*del_tt\n",
    "    b = 1.742*del_tt\n",
    "    c = depth_old*density_old - (pr*vr*tt_new)/(s**2)\n",
    "\n",
    "    vs_current = solve_eqn(a,b,c)\n",
    "    velocity.append(vs_current)\n",
    "\n",
    "    del_depth = vs_current*del_tt\n",
    "    density_new = ((depth_old*density_old)+(del_depth*(1.742+0.285*vs_current)))/(depth_old+del_depth)\n",
    "\n",
    "    depth_old = depth_old + del_depth\n",
    "    density_old = density_new\n",
    "    tt_old = tt_new\n",
    "    depth.append(depth_old)\n"
   ]
  },
  {
   "cell_type": "code",
   "execution_count": 10,
   "id": "f0fa04c5-0c00-4f38-8f8f-bebbc8668336",
   "metadata": {},
   "outputs": [],
   "source": [
    "cy14 = pd.read_csv('Vs profile.txt',delimiter='\\t')"
   ]
  },
  {
   "cell_type": "code",
   "execution_count": 11,
   "id": "e502a77c-199b-4054-87ea-7841fd22f78d",
   "metadata": {},
   "outputs": [
    {
     "data": {
      "text/plain": [
       "[Text(0.5, 0, 'Vs (km/s)'), Text(0, 0.5, 'Depth (km)')]"
      ]
     },
     "execution_count": 11,
     "metadata": {},
     "output_type": "execute_result"
    },
    {
     "data": {
      "image/png": "[encoded data removed]",
      "text/plain": [
       "<Figure size 600x400 with 1 Axes>"
      ]
     },
     "metadata": {
      "needs_background": "light"
     },
     "output_type": "display_data"
    }
   ],
   "source": [
    "fig,ax = plt.subplots(dpi =100)\n",
    "\n",
    "ax.step(cy14[' Vs (km/sec)'],cy14['z (km)'])\n",
    "ax.step(velocity,depth)\n",
    "\n",
    "ax.set(xlabel='Vs (km/s)',ylabel='Depth (km)')"
   ]
  },
  {
   "cell_type": "code",
   "execution_count": 12,
   "id": "6774fcb1-9246-4241-a5a4-adb889901e49",
   "metadata": {},
   "outputs": [],
   "source": [
    "import Inverse_QWL"
   ]
  },
  {
   "cell_type": "code",
   "execution_count": 16,
   "id": "3db52735-15ae-4679-ad07-4c20e6fc5b35",
   "metadata": {},
   "outputs": [],
   "source": [
    "df = Inverse_QWL.get_Vs(freqs,site_amp).vs_profile"
   ]
  },
  {
   "cell_type": "code",
   "execution_count": 17,
   "id": "1d8b12fb-06b8-4a9f-8bb9-41b83d92c414",
   "metadata": {},
   "outputs": [
    {
     "data": {
      "text/plain": [
       "[Text(0.5, 0, 'Vs (km/s)'), Text(0, 0.5, 'Depth (km)')]"
      ]
     },
     "execution_count": 17,
     "metadata": {},
     "output_type": "execute_result"
    },
    {
     "data": {
      "image/png": "[encoded data removed]",
      "text/plain": [
       "<Figure size 600x400 with 1 Axes>"
      ]
     },
     "metadata": {
      "needs_background": "light"
     },
     "output_type": "display_data"
    }
   ],
   "source": [
    "fig,ax = plt.subplots(dpi =100)\n",
    "\n",
    "ax.step(cy14[' Vs (km/sec)'],cy14['z (km)'])\n",
    "ax.step(velocity,depth)\n",
    "ax.step(df['Vs (km/s)'],df['Depth (km)'])\n",
    "\n",
    "ax.set(xlabel='Vs (km/s)',ylabel='Depth (km)')"
   ]
  },
  {
   "cell_type": "code",
   "execution_count": null,
   "id": "aef5cf25-e27f-43af-8863-f3d210347f5e",
   "metadata": {},
   "outputs": [],
   "source": []
  }
 ],
 "metadata": {
  "kernelspec": {
   "display_name": "Python 3 (ipykernel)",
   "language": "python",
   "name": "python3"
  },
  "language_info": {
   "codemirror_mode": {
    "name": "ipython",
    "version": 3
   },
   "file_extension": ".py",
   "mimetype": "text/x-python",
   "name": "python",
   "nbconvert_exporter": "python",
   "pygments_lexer": "ipython3",
   "version": "3.9.9"
  }
 },
 "nbformat": 4,
 "nbformat_minor": 5
}
